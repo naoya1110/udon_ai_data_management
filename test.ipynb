{
 "cells": [
  {
   "cell_type": "code",
   "execution_count": 9,
   "metadata": {},
   "outputs": [
    {
     "data": {
      "text/html": [
       "<div>\n",
       "<style scoped>\n",
       "    .dataframe tbody tr th:only-of-type {\n",
       "        vertical-align: middle;\n",
       "    }\n",
       "\n",
       "    .dataframe tbody tr th {\n",
       "        vertical-align: top;\n",
       "    }\n",
       "\n",
       "    .dataframe thead th {\n",
       "        text-align: right;\n",
       "    }\n",
       "</style>\n",
       "<table border=\"1\" class=\"dataframe\">\n",
       "  <thead>\n",
       "    <tr style=\"text-align: right;\">\n",
       "      <th></th>\n",
       "      <th>ID</th>\n",
       "      <th>udonya_name</th>\n",
       "      <th>tag</th>\n",
       "      <th>page_title</th>\n",
       "      <th>area</th>\n",
       "      <th>address</th>\n",
       "      <th>lat</th>\n",
       "      <th>lon</th>\n",
       "      <th>phone</th>\n",
       "      <th>URL</th>\n",
       "      <th>nb_imgs</th>\n",
       "    </tr>\n",
       "  </thead>\n",
       "  <tbody>\n",
       "    <tr>\n",
       "      <th>708</th>\n",
       "      <td>708</td>\n",
       "      <td>喫茶メロウ</td>\n",
       "      <td>merou</td>\n",
       "      <td>喫茶メロウ - 花園（高松）/喫茶店 [食べログ]</td>\n",
       "      <td>takamatsu</td>\n",
       "      <td>香川県高松市花園町2-8-23</td>\n",
       "      <td>34.334178</td>\n",
       "      <td>134.057394</td>\n",
       "      <td>087-834-4502</td>\n",
       "      <td>https://tabelog.com/kagawa/A3701/A370101/37010...</td>\n",
       "      <td>0.0</td>\n",
       "    </tr>\n",
       "    <tr>\n",
       "      <th>709</th>\n",
       "      <td>709</td>\n",
       "      <td>ハッピーBOX レオマリゾート</td>\n",
       "      <td>happy-box</td>\n",
       "      <td>ハッピーBOX レオマリゾート （ハッピーボックス） - 岡田（高松）/からあげ [食べログ]</td>\n",
       "      <td>marugame</td>\n",
       "      <td>香川県丸亀市綾歌町栗熊西40-1</td>\n",
       "      <td>34.211984</td>\n",
       "      <td>133.878449</td>\n",
       "      <td>0877-86-1071</td>\n",
       "      <td>https://tabelog.com/kagawa/A3702/A370202/37009...</td>\n",
       "      <td>0.0</td>\n",
       "    </tr>\n",
       "    <tr>\n",
       "      <th>710</th>\n",
       "      <td>710</td>\n",
       "      <td>初瀬食堂</td>\n",
       "      <td>hatsuse-shokudou</td>\n",
       "      <td>初瀬食堂 - 瓦町/そば [食べログ]</td>\n",
       "      <td>takamatsu</td>\n",
       "      <td>香川県高松市鍛冶屋町4-18</td>\n",
       "      <td>34.342857</td>\n",
       "      <td>134.048975</td>\n",
       "      <td>087-821-4133</td>\n",
       "      <td>https://tabelog.com/kagawa/A3701/A370101/37002...</td>\n",
       "      <td>0.0</td>\n",
       "    </tr>\n",
       "    <tr>\n",
       "      <th>711</th>\n",
       "      <td>711</td>\n",
       "      <td>讃岐麺処山岡</td>\n",
       "      <td>yamaoka</td>\n",
       "      <td>NaN</td>\n",
       "      <td>kanonji</td>\n",
       "      <td>香川県観音寺市古川町273-1</td>\n",
       "      <td>34.130272</td>\n",
       "      <td>133.692156</td>\n",
       "      <td>NaN</td>\n",
       "      <td>NaN</td>\n",
       "      <td>NaN</td>\n",
       "    </tr>\n",
       "    <tr>\n",
       "      <th>712</th>\n",
       "      <td>712</td>\n",
       "      <td>龍神うどん</td>\n",
       "      <td>ryujin-udon</td>\n",
       "      <td>NaN</td>\n",
       "      <td>marugame</td>\n",
       "      <td>香川県丸亀市通町82</td>\n",
       "      <td>34.290407</td>\n",
       "      <td>133.797318</td>\n",
       "      <td>NaN</td>\n",
       "      <td>NaN</td>\n",
       "      <td>NaN</td>\n",
       "    </tr>\n",
       "  </tbody>\n",
       "</table>\n",
       "</div>"
      ],
      "text/plain": [
       "      ID      udonya_name               tag  \\\n",
       "708  708            喫茶メロウ             merou   \n",
       "709  709  ハッピーBOX レオマリゾート         happy-box   \n",
       "710  710             初瀬食堂  hatsuse-shokudou   \n",
       "711  711           讃岐麺処山岡           yamaoka   \n",
       "712  712            龍神うどん       ryujin-udon   \n",
       "\n",
       "                                          page_title       area  \\\n",
       "708                        喫茶メロウ - 花園（高松）/喫茶店 [食べログ]  takamatsu   \n",
       "709  ハッピーBOX レオマリゾート （ハッピーボックス） - 岡田（高松）/からあげ [食べログ]   marugame   \n",
       "710                              初瀬食堂 - 瓦町/そば [食べログ]  takamatsu   \n",
       "711                                              NaN    kanonji   \n",
       "712                                              NaN   marugame   \n",
       "\n",
       "              address        lat         lon         phone  \\\n",
       "708   香川県高松市花園町2-8-23  34.334178  134.057394  087-834-4502   \n",
       "709  香川県丸亀市綾歌町栗熊西40-1  34.211984  133.878449  0877-86-1071   \n",
       "710    香川県高松市鍛冶屋町4-18  34.342857  134.048975  087-821-4133   \n",
       "711   香川県観音寺市古川町273-1  34.130272  133.692156           NaN   \n",
       "712        香川県丸亀市通町82  34.290407  133.797318           NaN   \n",
       "\n",
       "                                                   URL  nb_imgs  \n",
       "708  https://tabelog.com/kagawa/A3701/A370101/37010...      0.0  \n",
       "709  https://tabelog.com/kagawa/A3702/A370202/37009...      0.0  \n",
       "710  https://tabelog.com/kagawa/A3701/A370101/37002...      0.0  \n",
       "711                                                NaN      NaN  \n",
       "712                                                NaN      NaN  "
      ]
     },
     "execution_count": 9,
     "metadata": {},
     "output_type": "execute_result"
    }
   ],
   "source": [
    "import os\n",
    "import pandas as pd\n",
    "\n",
    "df = pd.read_excel(\"../MAIN_DATABASE/udonya_database_main.xlsx\")\n",
    "df.tail()"
   ]
  },
  {
   "cell_type": "code",
   "execution_count": 12,
   "metadata": {},
   "outputs": [
    {
     "name": "stdout",
     "output_type": "stream",
     "text": [
      "0_釜あげうどん 長田 in 香の香\n"
     ]
    },
    {
     "data": {
      "text/plain": [
       "['0_釜あげうどん 長田 in 香の香',\n",
       " '1_手打十段 うどんバカ一代',\n",
       " '2_山越うどん',\n",
       " '3_讃岐うどん がもう',\n",
       " '4_日の出製麺所',\n",
       " '5_うどん 一福',\n",
       " '6_本格手打 もり家',\n",
       " '7_純手打うどん よしや',\n",
       " '8_うどん さか枝',\n",
       " '9_うどん本陣 山田家 讃岐本店']"
      ]
     },
     "execution_count": 12,
     "metadata": {},
     "output_type": "execute_result"
    }
   ],
   "source": [
    "id_list = df[\"ID\"].tolist()\n",
    "udonya_name_list = df[\"udonya_name\"].tolist()\n",
    "\n",
    "for id, udonya_name in zip(id_list, udonya_name_list):\n",
    "  print(f\"{id}_{udonya_name}\")\n",
    "  break\n",
    "\n",
    "udonya_names_list = [f\"{id}_{udonya_name}\" for id, udonya_name in zip(id_list, udonya_name_list)]\n",
    "udonya_names_list[:10]"
   ]
  },
  {
   "cell_type": "code",
   "execution_count": 16,
   "metadata": {},
   "outputs": [
    {
     "data": {
      "text/plain": [
       "712"
      ]
     },
     "execution_count": 16,
     "metadata": {},
     "output_type": "execute_result"
    }
   ],
   "source": [
    "df[\"ID\"].tolist()[-1]"
   ]
  },
  {
   "cell_type": "code",
   "execution_count": 3,
   "metadata": {},
   "outputs": [
    {
     "data": {
      "text/plain": [
       "Index(['ID', 'udonya_name', 'tag', 'page_title', 'area', 'address', 'lat',\n",
       "       'lon', 'phone', 'URL', 'nb_imgs'],\n",
       "      dtype='object')"
      ]
     },
     "execution_count": 3,
     "metadata": {},
     "output_type": "execute_result"
    }
   ],
   "source": [
    "df.columns"
   ]
  },
  {
   "cell_type": "code",
   "execution_count": 5,
   "metadata": {},
   "outputs": [
    {
     "data": {
      "text/plain": [
       "(712, 11)"
      ]
     },
     "execution_count": 5,
     "metadata": {},
     "output_type": "execute_result"
    }
   ],
   "source": [
    "df.shape"
   ]
  },
  {
   "cell_type": "code",
   "execution_count": 6,
   "metadata": {},
   "outputs": [
    {
     "data": {
      "text/plain": [
       "{'ID': 712,\n",
       " 'udonya_name': 'たくませいめんしょ',\n",
       " 'tag': 'takuma-seimensho',\n",
       " 'area': 'mitoyo',\n",
       " 'address': '香川県三豊市詫間町香田551',\n",
       " 'lat': 34.23413362116817,\n",
       " 'lon': 133.6357630265767}"
      ]
     },
     "execution_count": 6,
     "metadata": {},
     "output_type": "execute_result"
    }
   ],
   "source": [
    "new_udonya_id = df.shape[0]\n",
    "new_udonya_name = \"たくませいめんしょ\"\n",
    "new_udonya_tag = \"takuma-seimensho\"\n",
    "new_udonya_area = \"mitoyo\"\n",
    "new_udonya_address = \"香川県三豊市詫間町香田551\"\n",
    "new_udonya_lat = 34.23413362116817\n",
    "new_udonya_lon = 133.6357630265767\n",
    "\n",
    "new_udonya ={\n",
    "  \"ID\":new_udonya_id,\n",
    "  \"udonya_name\":new_udonya_name,\n",
    "  \"tag\":new_udonya_tag,\n",
    "  \"area\":new_udonya_area,\n",
    "  \"address\":new_udonya_address,\n",
    "  \"lat\":new_udonya_lat,\n",
    "  \"lon\":new_udonya_lon,\n",
    "}\n",
    "\n",
    "new_udonya"
   ]
  },
  {
   "cell_type": "code",
   "execution_count": 8,
   "metadata": {},
   "outputs": [
    {
     "data": {
      "text/html": [
       "<div>\n",
       "<style scoped>\n",
       "    .dataframe tbody tr th:only-of-type {\n",
       "        vertical-align: middle;\n",
       "    }\n",
       "\n",
       "    .dataframe tbody tr th {\n",
       "        vertical-align: top;\n",
       "    }\n",
       "\n",
       "    .dataframe thead th {\n",
       "        text-align: right;\n",
       "    }\n",
       "</style>\n",
       "<table border=\"1\" class=\"dataframe\">\n",
       "  <thead>\n",
       "    <tr style=\"text-align: right;\">\n",
       "      <th></th>\n",
       "      <th>ID</th>\n",
       "      <th>udonya_name</th>\n",
       "      <th>tag</th>\n",
       "      <th>page_title</th>\n",
       "      <th>area</th>\n",
       "      <th>address</th>\n",
       "      <th>lat</th>\n",
       "      <th>lon</th>\n",
       "      <th>phone</th>\n",
       "      <th>URL</th>\n",
       "      <th>nb_imgs</th>\n",
       "    </tr>\n",
       "  </thead>\n",
       "  <tbody>\n",
       "    <tr>\n",
       "      <th>708</th>\n",
       "      <td>708</td>\n",
       "      <td>喫茶メロウ</td>\n",
       "      <td>merou</td>\n",
       "      <td>喫茶メロウ - 花園（高松）/喫茶店 [食べログ]</td>\n",
       "      <td>takamatsu</td>\n",
       "      <td>香川県高松市花園町2-8-23</td>\n",
       "      <td>34.334178</td>\n",
       "      <td>134.057394</td>\n",
       "      <td>087-834-4502</td>\n",
       "      <td>https://tabelog.com/kagawa/A3701/A370101/37010...</td>\n",
       "      <td>0.0</td>\n",
       "    </tr>\n",
       "    <tr>\n",
       "      <th>709</th>\n",
       "      <td>709</td>\n",
       "      <td>ハッピーBOX レオマリゾート</td>\n",
       "      <td>happy-box</td>\n",
       "      <td>ハッピーBOX レオマリゾート （ハッピーボックス） - 岡田（高松）/からあげ [食べログ]</td>\n",
       "      <td>marugame</td>\n",
       "      <td>香川県丸亀市綾歌町栗熊西40-1</td>\n",
       "      <td>34.211984</td>\n",
       "      <td>133.878449</td>\n",
       "      <td>0877-86-1071</td>\n",
       "      <td>https://tabelog.com/kagawa/A3702/A370202/37009...</td>\n",
       "      <td>0.0</td>\n",
       "    </tr>\n",
       "    <tr>\n",
       "      <th>710</th>\n",
       "      <td>710</td>\n",
       "      <td>初瀬食堂</td>\n",
       "      <td>hatsuse-shokudou</td>\n",
       "      <td>初瀬食堂 - 瓦町/そば [食べログ]</td>\n",
       "      <td>takamatsu</td>\n",
       "      <td>香川県高松市鍛冶屋町4-18</td>\n",
       "      <td>34.342857</td>\n",
       "      <td>134.048975</td>\n",
       "      <td>087-821-4133</td>\n",
       "      <td>https://tabelog.com/kagawa/A3701/A370101/37002...</td>\n",
       "      <td>0.0</td>\n",
       "    </tr>\n",
       "    <tr>\n",
       "      <th>711</th>\n",
       "      <td>711</td>\n",
       "      <td>讃岐麺処山岡</td>\n",
       "      <td>yamaoka</td>\n",
       "      <td>NaN</td>\n",
       "      <td>kanonji</td>\n",
       "      <td>香川県観音寺市古川町273-1</td>\n",
       "      <td>34.130272</td>\n",
       "      <td>133.692156</td>\n",
       "      <td>NaN</td>\n",
       "      <td>NaN</td>\n",
       "      <td>NaN</td>\n",
       "    </tr>\n",
       "    <tr>\n",
       "      <th>712</th>\n",
       "      <td>712</td>\n",
       "      <td>たくませいめんしょ</td>\n",
       "      <td>takuma-seimensho</td>\n",
       "      <td>NaN</td>\n",
       "      <td>mitoyo</td>\n",
       "      <td>香川県三豊市詫間町香田551</td>\n",
       "      <td>34.234134</td>\n",
       "      <td>133.635763</td>\n",
       "      <td>NaN</td>\n",
       "      <td>NaN</td>\n",
       "      <td>NaN</td>\n",
       "    </tr>\n",
       "  </tbody>\n",
       "</table>\n",
       "</div>"
      ],
      "text/plain": [
       "      ID      udonya_name               tag  \\\n",
       "708  708            喫茶メロウ             merou   \n",
       "709  709  ハッピーBOX レオマリゾート         happy-box   \n",
       "710  710             初瀬食堂  hatsuse-shokudou   \n",
       "711  711           讃岐麺処山岡           yamaoka   \n",
       "712  712        たくませいめんしょ  takuma-seimensho   \n",
       "\n",
       "                                          page_title       area  \\\n",
       "708                        喫茶メロウ - 花園（高松）/喫茶店 [食べログ]  takamatsu   \n",
       "709  ハッピーBOX レオマリゾート （ハッピーボックス） - 岡田（高松）/からあげ [食べログ]   marugame   \n",
       "710                              初瀬食堂 - 瓦町/そば [食べログ]  takamatsu   \n",
       "711                                              NaN    kanonji   \n",
       "712                                              NaN     mitoyo   \n",
       "\n",
       "              address        lat         lon         phone  \\\n",
       "708   香川県高松市花園町2-8-23  34.334178  134.057394  087-834-4502   \n",
       "709  香川県丸亀市綾歌町栗熊西40-1  34.211984  133.878449  0877-86-1071   \n",
       "710    香川県高松市鍛冶屋町4-18  34.342857  134.048975  087-821-4133   \n",
       "711   香川県観音寺市古川町273-1  34.130272  133.692156           NaN   \n",
       "712    香川県三豊市詫間町香田551  34.234134  133.635763           NaN   \n",
       "\n",
       "                                                   URL  nb_imgs  \n",
       "708  https://tabelog.com/kagawa/A3701/A370101/37010...      0.0  \n",
       "709  https://tabelog.com/kagawa/A3702/A370202/37009...      0.0  \n",
       "710  https://tabelog.com/kagawa/A3701/A370101/37002...      0.0  \n",
       "711                                                NaN      NaN  \n",
       "712                                                NaN      NaN  "
      ]
     },
     "execution_count": 8,
     "metadata": {},
     "output_type": "execute_result"
    }
   ],
   "source": [
    "df = df.append(new_udonya, ignore_index=True)\n",
    "\n",
    "df.tail()"
   ]
  }
 ],
 "metadata": {
  "interpreter": {
   "hash": "4e54b29114287c3cf896799d2dce07f79bd1391363d263cb0168b4be4139fbcd"
  },
  "kernelspec": {
   "display_name": "Python 3.10.0 64-bit ('venv202201': venv)",
   "language": "python",
   "name": "python3"
  },
  "language_info": {
   "codemirror_mode": {
    "name": "ipython",
    "version": 3
   },
   "file_extension": ".py",
   "mimetype": "text/x-python",
   "name": "python",
   "nbconvert_exporter": "python",
   "pygments_lexer": "ipython3",
   "version": "3.10.0"
  },
  "orig_nbformat": 4
 },
 "nbformat": 4,
 "nbformat_minor": 2
}
